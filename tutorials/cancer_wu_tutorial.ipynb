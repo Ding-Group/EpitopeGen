{
 "cells": [
  {
   "cell_type": "markdown",
   "metadata": {},
   "source": [
    "# Downloading the cancer dataset\n",
    "In this tutorial, we will run the analysis on the cancer dataset following https://github.com/Regaler/EpitopeGen/tree/main/research/cancer_wu. The **Wu et al.** dataset (https://www.nature.com/articles/s41586-020-2056-8) comprises paired single-cell RNA and TCR sequencing data from 14 cancer patients. As a first step, download the annotated dataset. "
   ]
  },
  {
   "cell_type": "code",
   "execution_count": null,
   "metadata": {
    "vscode": {
     "languageId": "shellscript"
    }
   },
   "outputs": [],
   "source": [
    "cd EpitopeGen/research\n",
    "python research/scripts/run_cancer_wu.py --download"
   ]
  },
  {
   "cell_type": "markdown",
   "metadata": {},
   "source": [
    "This will download and extract the dataset to the `cancer_wu/data` directory. The dataset contains the following files:\n",
    "- `cancer_wu/data/GSE139555_tcell_integrated.h5ad`: AnnData object containing the single-cell RNA-seq data of T cells\n",
    "- `cancer_wu/data/GSE139555%5Ftcell%5Fmetadata.txt`: Observation metadata of the T cells\n",
    "- `CN1`, `EN1`, `ET2`, ..., `RN3`: per-patient data. Each file contains the following:\n",
    "    - `*.filtered_contig_annotations.csv`: contains the TCR sequences\n",
    "    - `*.mtx`, `*.barcodes.tsv`, `*.genes.tsv`: contains the single-cell RNA-seq data (before preprocessing). These files are used when analyzing the gene expression levels. \n",
    "\n",
    "Now, download the tumor-associated epitopes database and the annotated observation that includes EpitopeGen inference results:"
   ]
  },
  {
   "cell_type": "code",
   "execution_count": null,
   "metadata": {
    "vscode": {
     "languageId": "shellscript"
    }
   },
   "outputs": [],
   "source": [
    "cd EpitopeGen/research/cancer_wu/data\n",
    "wget https://zenodo.org/records/14861864/files/tumor_associated_epitopes.csv\n",
    "wget https://zenodo.org/records/14861864/files/obs_annotated_cancer_wu_ens_th0.5.csv"
   ]
  },
  {
   "cell_type": "markdown",
   "metadata": {},
   "source": [
    "The `tumor_associated_epitopes.csv` file serves as the reference database for epitope queries. \n",
    "\n",
    "# Analysis\n",
    "In `obs_annotated_cancer_wu_ens_th0.5.csv`, we can see that for each viable T cell, the prediction columns contain generated epitope sequences. The columns match_{i} is 1 if the generated epitope pred_{i} is a match to the epitope in the reference database, otherwise 0. The columns pred_{i} contain the generated epitope sequences. The following are overview of the analyses:\n",
    "\n",
    "- **Phenotype-Association (PA) Ratio Analysis**\n",
    "    - Quantifies Phenotype-Associated T cells within specific repertoire subgroups\n",
    "    - Enables comparison of tumor-associated T cell proportions across site patterns and cell types\n",
    "\n",
    "- **Phenotype-Relative Expansion (PRE) Analysis**\n",
    "    - Evaluates clone sizes of PA T cells\n",
    "    - Provides comparative analysis against NA T cell expansion\n",
    "\n",
    "- **Gene Expression Analysis**\n",
    "    - Performs differential gene expression analysis between PA and NA T cells\n",
    "    - Identifies distinctive gene expression patterns in PA T cells\n",
    "    - Requires per-patient raw data (accessed via read_all_raw_data())"
   ]
  },
  {
   "cell_type": "markdown",
   "metadata": {},
   "source": [
    "## PA Ratio analysis\n",
    "The PA Ratio analysis quantifies the proportion of PA T cells within specific repertoire subgroups. For more details, please see **Fig. 5c** and section \"EpiGen discovers tumor-associated CD8+ T cells\" in the manuscript. "
   ]
  },
  {
   "cell_type": "code",
   "execution_count": null,
   "metadata": {},
   "outputs": [],
   "source": [
    "# In EpitopeGen/research\n",
    "from epitopegen import PARatioAnalyzer\n",
    "from cancer_wu.utils import read_all_data,CELL_TYPES, PATTERN_NAMES_CORE, PATTERN_NAMES2DESC, SITE_PATTERNS_CORE\n",
    "\n",
    "print(\"CELL_TYPES\", CELL_TYPES)\n",
    "print(\"PATTERN_NAMES\", PATTERN_NAMES_CORE)\n",
    "print(\"PATTERN_NAMES2DESC\", PATTERN_NAMES2DESC)\n",
    "\n",
    "mdata = read_all_data(data_dir=\"cancer_wu/data\", obs_cache=\"cancer_wu/data/obs_annotated_cancer_wu_ens_th0.5.csv\", transpose=True)\n",
    "\n",
    "pa_analyzer = PARatioAnalyzer(\n",
    "    cell_types=CELL_TYPES,\n",
    "    pattern_names=PATTERN_NAMES_CORE,\n",
    "    pattern_descriptions=PATTERN_NAMES2DESC,\n",
    "    patterns_dict={k: v for k, v in zip(PATTERN_NAMES_CORE, SITE_PATTERNS_CORE)},\n",
    "    output_dir='cancer_wu/analysis/PA_ratios'\n",
    ")\n",
    "pa_analyzer.analyze(mdata, top_k=4, per_patient=False)"
   ]
  },
  {
   "cell_type": "markdown",
   "metadata": {},
   "source": [
    "## PRE analysis\n",
    "The PRE analysis evaluates the clone sizes of PA T cells and provides comparative analysis against NA T cell expansion. For more details, please see **Fig. 5d** and the related section in the manuscript. "
   ]
  },
  {
   "cell_type": "code",
   "execution_count": null,
   "metadata": {},
   "outputs": [],
   "source": [
    "# In EpitopeGen/research\n",
    "from epitopegen import PRERatioAnalyzer\n",
    "from cancer_wu.utils import read_all_data,CELL_TYPES, PATTERN_NAMES_CORE, PATTERN_NAMES2DESC, SITE_PATTERNS_CORE\n",
    "\n",
    "print(\"CELL_TYPES\", CELL_TYPES)\n",
    "print(\"PATTERN_NAMES\", PATTERN_NAMES_CORE)\n",
    "print(\"PATTERN_NAMES2DESC\", PATTERN_NAMES2DESC)\n",
    "\n",
    "mdata = read_all_data(data_dir=\"cancer_wu/data\", obs_cache=\"cancer_wu/data/obs_annotated_cancer_wu_ens_th0.5.csv\", transpose=True)\n",
    "\n",
    "pre_analyzer = PRERatioAnalyzer(\n",
    "    cell_types=CELL_TYPES,\n",
    "    pattern_names=PATTERN_NAMES_CORE,\n",
    "    pattern_descriptions=PATTERN_NAMES2DESC,\n",
    "    patterns_dict={k: v for k, v in zip(PATTERN_NAMES_CORE, SITE_PATTERNS_CORE)},\n",
    "    output_dir='cancer_wu/analysis/PRE_ratios'\n",
    ")\n",
    "pre_analyzer.analyze(mdata, top_k=4, per_patient=False)"
   ]
  },
  {
   "cell_type": "markdown",
   "metadata": {},
   "source": [
    "## DEG analysis\n",
    "The DEG analysis performs differential gene expression analysis between PA and NA T cells. It identifies distinctive gene expression patterns in PA T cells. For more details, please see **Fig. 5e** and the related section in the manuscript. "
   ]
  },
  {
   "cell_type": "code",
   "execution_count": null,
   "metadata": {},
   "outputs": [],
   "source": [
    "# In EpitopeGen/research\n",
    "from epitopegen import DEGAnalyzer\n",
    "from cancer_wu.utils import read_all_data,read_all_raw_data, filter_and_update_combined_adata,SITE_PATTERNS_CORE, PATTERN_NAMES_CORE\n",
    "\n",
    "# Read the processed gene expression data of CD8+ T cell and then inject our epitope annotation\n",
    "mdata = read_all_data(data_dir=\"cancer_wu/data\", obs_cache=f\"cancer_wu/data/obs_annotated_cancer_wu_ens_th0.5.csv\", transpose=True)\n",
    "# Read the raw gene expression data of CD8+ T cells\n",
    "raw_adata = read_all_raw_data(data_dir=\"cancer_wu/data\")\n",
    "# Merge the raw gene expression data with the previous TCR-GEX data\n",
    "raw_adata_filtered = filter_and_update_combined_adata(raw_adata, mdata['gex'])\n",
    "\n",
    "# Perform DEG analysis (grouped)\n",
    "top_k = 4\n",
    "for k in range(1, 1 + top_k):\n",
    "    analyzer = DEGAnalyzer(output_dir=\"cancer_wu/analysis/gex_grouped\", top_k=top_k)\n",
    "    analyzer.analyze(raw_adata_filtered.copy())\n",
    "\n",
    "# Perform DEG analysis (per site pattern)\n",
    "top_k = 4\n",
    "for k in range(1, 1 + top_k):\n",
    "    analyzer = DEGAnalyzer(output_dir=\"cancer_wu/analysis/gex_per_pattern\", top_k=top_k, patterns_list=SITE_PATTERNS_CORE, pattern_names=PATTERN_NAMES_CORE)\n",
    "    analyzer.analyze(raw_adata_filtered.copy(), analyze_patterns=True)"
   ]
  }
 ],
 "metadata": {
  "language_info": {
   "name": "python"
  }
 },
 "nbformat": 4,
 "nbformat_minor": 2
}
