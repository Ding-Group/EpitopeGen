{
 "cells": [
  {
   "cell_type": "markdown",
   "metadata": {},
   "source": [
    "# Downloading the COVID19 dataset\n",
    "In this tutorial, we will run the analysis on a COVID-19 dataset following https://github.com/Regaler/EpitopeGen/tree/main/research/covid19_su. The **Su et al.** dataset (https://www.cell.com/cell/fulltext/S0092-8674(20)31444-6?_returnURL=https%3A%2F%2Flinkinghub.elsevier.com%2Fretrieve%2Fpii%2FS0092867420314446%3Fshowall%3Dtrue) comprises paired single-cell RNA and TCR sequencing data from 139 COVID-19 patients. The dataset categorizes patients into four severity groups: healthy, mild, moderate, and severe. As a first step, download the annotated dataset. "
   ]
  },
  {
   "cell_type": "code",
   "execution_count": null,
   "metadata": {
    "vscode": {
     "languageId": "shellscript"
    }
   },
   "outputs": [],
   "source": [
    "cd EpitopeGen/research/covid19_su/data\n",
    "wget https://zenodo.org/records/14861864/files/cd8_gex_covid19_su.h5ad\n",
    "wget https://zenodo.org/records/14861864/files/covid19_epitopes.csv\n",
    "wget https://zenodo.org/records/14896012/files/obs_annotated_covid19_su_ens_th0.5.csv"
   ]
  },
  {
   "cell_type": "markdown",
   "metadata": {},
   "source": [
    "This will download and extract the dataset to the `covid19_su/data` directory. The dataset contains the following files:\n",
    "- `covid19_su/data/cd8_gex_covid19_su.h5ad`: AnnData object containing the single-cell RNA-seq data of CD8+ T cells\n",
    "- `covid19_su/data/obs_annotated_covid19_su_ens_th0.5.csv`: Observation metadata of the T cells. This file includes the **EpitopeGen** inference results. We can see that for each viable T cell, the prediction columns contain generated epitope sequences. The columns `match_{i}` is 1 if the generated epitope `pred_{i}` is a match to the epitope in the reference database, otherwise 0. The columns `pred_{i}` contain the generated epitope sequences. The following are overview of the analyses:\n",
    "- `covid19_epitopes.csv`: COVID-19 epitopes database\n",
    "\n",
    "# Analysis\n",
    "\n",
    "- **Phenotype-Association (PA) Ratio Analysis**\n",
    "    - Quantifies Phenotype-Associated T cells within specific repertoire subgroups\n",
    "    - Enables comparison of COVID19-associated T cell proportions across site patterns and cell types\n",
    "\n",
    "- **Clonal Expansion Analysis**\n",
    "    - Evaluates clone sizes of PA T cells\n",
    "    - Provides comparative analysis against NA T cell expansion\n",
    "\n",
    "- **Gene Expression Analysis**\n",
    "    - Performs differential gene expression analysis between PA and NA T cells\n",
    "    - Identifies distinctive gene expression patterns in PA T cells\n",
    "    - Requires per-patient raw data\n",
    "\n",
    "- **Antigen Analysis**\n",
    "    - Identifies recognized COVID-19 antigens in PA T cells\n",
    "    - For clonally expanded and not-expanded PA T cells"
   ]
  },
  {
   "cell_type": "markdown",
   "metadata": {
    "vscode": {
     "languageId": "shellscript"
    }
   },
   "source": [
    "## PA Ratio analysis\n",
    "The PA Ratio analysis quantifies the proportion of PA T cells within specific repertoire subgroups. For more details, please see **Fig. 6b** and section \"EpiGen discovers COVID-19-associated CD8+ T cells\" in the manuscript. "
   ]
  },
  {
   "cell_type": "code",
   "execution_count": null,
   "metadata": {},
   "outputs": [],
   "source": [
    "# In EpitopeGen/research\n",
    "from epitopegen import PARatioAnalyzer\n",
    "from covid19_su.utils import read_all_data,CELL_NAMES,PATTERN_NAMES,WOS_PATTERNS,clean_wos_get_single_pair\n",
    "\n",
    "print(\"CELL_TYPES\", CELL_NAMES)\n",
    "print(\"PATTERN_NAMES\", PATTERN_NAMES)\n",
    "print(\"WOS_PATTERNS\", WOS_PATTERNS)\n",
    "\n",
    "adata = read_all_data(data_dir=\"covid19_su/data\", gex_cache=\"covid19_su/data/cd8_gex_covid19_su.h5ad\", obs_cache=\"covid19_su/data/obs_annotated_covid19_su_ens_th0.5.csv\")\n",
    "# Clean the dataframe\n",
    "df = clean_wos_get_single_pair(adata.obs)\n",
    "# Create new Anndata with only the kept cells\n",
    "adata_clean = adata[df.index].copy()\n",
    "adata_clean.obs = df\n",
    "# If you want to replace the original adata\n",
    "adata = adata_clean\n",
    "\n",
    "pa_analyzer = PARatioAnalyzer(\n",
    "    cell_types=CELL_NAMES,\n",
    "    pattern_names=PATTERN_NAMES,\n",
    "    pattern_descriptions={k: k for k in PATTERN_NAMES},\n",
    "    patterns_dict={k: v for k, v in zip(PATTERN_NAMES, WOS_PATTERNS)},\n",
    "    output_dir='covid19_su/analysis/PA_ratios'\n",
    ")\n",
    "pa_analyzer.analyze({'gex': adata}, top_k=8, per_patient=False)"
   ]
  },
  {
   "cell_type": "markdown",
   "metadata": {},
   "source": [
    "## Clonal expansion analysis\n",
    "The clonal expansion analysis evaluates the clone sizes of PA T cells per patient group (healthy, mild, moderate, and severe). For more details, please see **Fig. 6c** and the related section in the manuscript. "
   ]
  },
  {
   "cell_type": "code",
   "execution_count": null,
   "metadata": {},
   "outputs": [],
   "source": [
    "# In EpitopeGen/research\n",
    "from epitopegen import TCRUMAPVisualizer\n",
    "from covid19_su.utils import read_all_data,clean_wos_get_single_pair,WOS_PATTERNS,PATTERN_NAMES\n",
    "\n",
    "adata = read_all_data(data_dir=\"covid19_su/data\", gex_cache=\"covid19_su/data/cd8_gex_covid19_su.h5ad\", obs_cache=\"covid19_su/data/obs_annotated_covid19_su_ens_th0.5.csv\")\n",
    "# Clean the dataframe\n",
    "df = clean_wos_get_single_pair(adata.obs)\n",
    "# Create new Anndata with only the kept cells\n",
    "adata_clean = adata[df.index].copy()\n",
    "adata_clean.obs = df\n",
    "# If you want to replace the original adata\n",
    "adata = adata_clean\n",
    "\n",
    "# Initialize visualizer\n",
    "visualizer = TCRUMAPVisualizer(\n",
    "    patterns=WOS_PATTERNS,  # [[0], [1,2], [3,4], [5,6,7]]\n",
    "    pattern_names=PATTERN_NAMES,\n",
    "    pattern_descriptions={\n",
    "        'healthy': 'Healthy controls',\n",
    "        'mild': 'Mild disease',\n",
    "        'moderate': 'Moderate disease',\n",
    "        'severe': 'Severe disease'\n",
    "    },\n",
    "    output_dir='covid19_su/analysis/tcr_umap'\n",
    ")\n",
    "\n",
    "# Create visualization\n",
    "visualizer.visualize_umap(\n",
    "    adata,\n",
    "    match_columns=[f'match_{k}' for k in range(8)],\n",
    "    primary_color='red',\n",
    "    sample_size=4000,\n",
    "    n_proc=40,\n",
    ")"
   ]
  },
  {
   "cell_type": "markdown",
   "metadata": {},
   "source": [
    "## DEG analysis\n",
    "The DEG analysis performs differential gene expression analysis between PA and NA T cells. It identifies distinctive gene expression patterns in PA T cells. For more details, please see **Fig. 6d** and the related section in the manuscript. "
   ]
  },
  {
   "cell_type": "code",
   "execution_count": null,
   "metadata": {},
   "outputs": [],
   "source": [
    "# In EpitopeGen/research\n",
    "from epitopegen import DEGAnalyzer\n",
    "from covid19_su.utils import read_all_data,CELL_NAMES,PATTERN_NAMES,WOS_PATTERNS,clean_wos_get_single_pair\n",
    "\n",
    "print(\"CELL_TYPES\", CELL_NAMES)\n",
    "print(\"PATTERN_NAMES\", PATTERN_NAMES)\n",
    "print(\"WOS_PATTERNS\", WOS_PATTERNS)\n",
    "\n",
    "adata = read_all_data(data_dir=\"covid19_su/data\", gex_cache=\"covid19_su/data/cd8_gex_covid19_su.h5ad\", obs_cache=\"covid19_su/data/obs_annotated_covid19_su_ens_th0.5.csv\")\n",
    "# Clean the dataframe\n",
    "df = clean_wos_get_single_pair(adata.obs)\n",
    "# Create new Anndata with only the kept cells\n",
    "adata_clean = adata[df.index].copy()\n",
    "adata_clean.obs = df\n",
    "# If you want to replace the original adata\n",
    "adata = adata_clean\n",
    "\n",
    "# Perform DEG analysis (grouped)\n",
    "analyzer = DEGAnalyzer(output_dir=\"covid19_su/analysis/gex_grouped\", top_k=8)\n",
    "analyzer.analyze(adata.copy())\n",
    "\n",
    "# Perform DEG analysis (per site pattern)\n",
    "analyzer = DEGAnalyzer(output_dir=\"covid19_su/analysis/gex_per_pattern\", top_k=8, patterns_list=WOS_PATTERNS, pattern_names=PATTERN_NAMES)\n",
    "analyzer.analyze(adata.copy(), analyze_patterns=True)"
   ]
  },
  {
   "cell_type": "markdown",
   "metadata": {},
   "source": [
    "## Antigen Analysis\n",
    "The antigen analysis identifies recognized COVID-19 epitopes in PA T cells. For more details, please see **Fig. 6e** and the related section in the manuscript."
   ]
  },
  {
   "cell_type": "code",
   "execution_count": null,
   "metadata": {},
   "outputs": [],
   "source": [
    "# In EpitopeGen/research\n",
    "from epitopegen import AntigenAnalyzer,CoronavirusProteinStandardizer\n",
    "from covid19_su.utils import read_all_data,CELL_NAMES,PATTERN_NAMES,WOS_PATTERNS,clean_wos_get_single_pair,LEIDEN2CELLNAME\n",
    "\n",
    "print(\"CELL_TYPES\", CELL_NAMES)\n",
    "print(\"PATTERN_NAMES\", PATTERN_NAMES)\n",
    "print(\"WOS_PATTERNS\", WOS_PATTERNS)\n",
    "\n",
    "adata = read_all_data(data_dir=\"covid19_su/data\", gex_cache=\"covid19_su/data/cd8_gex_covid19_su.h5ad\", obs_cache=\"covid19_su/data/obs_annotated_covid19_su_ens_th0.5.csv\")\n",
    "# Clean the dataframe\n",
    "df = clean_wos_get_single_pair(adata.obs)\n",
    "# Create new Anndata with only the kept cells\n",
    "adata_clean = adata[df.index].copy()\n",
    "adata_clean.obs = df\n",
    "# If you want to replace the original adata\n",
    "adata = adata_clean\n",
    "\n",
    "# Initialize analyzer with default coronavirus protein standardizer\n",
    "analyzer = AntigenAnalyzer(\n",
    "    condition_patterns={\n",
    "        'nan': 'healthy',\n",
    "        '1': 'mild', '1 or 2': 'mild', '2': 'mild',\n",
    "        '3': 'moderate', '4': 'moderate',\n",
    "        '5': 'severe', '6': 'severe', '7': 'severe'\n",
    "    },\n",
    "    pattern_order=['healthy', 'mild', 'moderate', 'severe'],\n",
    "    protein_colors={\n",
    "        'Non-structural proteins (NSP)': '#7F63B8',\n",
    "        'Accessory proteins (ORFs)': '#FF6B6B',\n",
    "        'Spike (S) protein': '#4ECDC4',\n",
    "        'Nucleocapsid (N) protein': '#FFD700',\n",
    "        'Membrane (M) protein': '#4641F0',\n",
    "        'Envelope (E) protein': '#ED8907',\n",
    "        'Other': '#9FA4A9'\n",
    "    },\n",
    "    protein_standardizer=CoronavirusProteinStandardizer(),\n",
    "    cell_type_column='leiden',\n",
    "    cell_type_mapping=LEIDEN2CELLNAME,\n",
    "    output_dir='covid19_su/analysis/antigen'\n",
    ")\n",
    "\n",
    "# Run analysis\n",
    "results = analyzer.analyze(\n",
    "    adata,\n",
    "    top_k=8,\n",
    "    top_n_proteins=20,\n",
    "    condition_column=\"Who Ordinal Scale\"\n",
    ")"
   ]
  }
 ],
 "metadata": {
  "language_info": {
   "name": "python"
  }
 },
 "nbformat": 4,
 "nbformat_minor": 2
}
